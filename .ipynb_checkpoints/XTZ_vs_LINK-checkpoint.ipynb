{
 "cells": [
  {
   "cell_type": "code",
   "execution_count": 10,
   "metadata": {},
   "outputs": [],
   "source": [
    "import pandas as pd\n",
    "import numpy as np\n",
    "import seaborn as sns\n",
    "import pathlib as Path\n",
    "%matplotlib inline"
   ]
  },
  {
   "cell_type": "code",
   "execution_count": 11,
   "metadata": {},
   "outputs": [],
   "source": [
    "XTZ = pd.read_csv('XTZ_USD_2020-03-23_2021-02-08-CoinDesk.csv', index_col = 'Date', parse_dates = True, infer_datetime_format =True)\n",
    "LINK = pd.read_csv('LINK_USD_2020-03-23_2021-02-08-CoinDesk.csv', index_col = 'Date', parse_dates = True, infer_datetime_format =True)"
   ]
  },
  {
   "cell_type": "code",
   "execution_count": 12,
   "metadata": {},
   "outputs": [
    {
     "data": {
      "text/html": [
       "<div>\n",
       "<style scoped>\n",
       "    .dataframe tbody tr th:only-of-type {\n",
       "        vertical-align: middle;\n",
       "    }\n",
       "\n",
       "    .dataframe tbody tr th {\n",
       "        vertical-align: top;\n",
       "    }\n",
       "\n",
       "    .dataframe thead th {\n",
       "        text-align: right;\n",
       "    }\n",
       "</style>\n",
       "<table border=\"1\" class=\"dataframe\">\n",
       "  <thead>\n",
       "    <tr style=\"text-align: right;\">\n",
       "      <th></th>\n",
       "      <th>Currency</th>\n",
       "      <th>Closing Price (USD)</th>\n",
       "    </tr>\n",
       "    <tr>\n",
       "      <th>Date</th>\n",
       "      <th></th>\n",
       "      <th></th>\n",
       "    </tr>\n",
       "  </thead>\n",
       "  <tbody>\n",
       "    <tr>\n",
       "      <th>2020-03-23</th>\n",
       "      <td>LINK</td>\n",
       "      <td>2.231210</td>\n",
       "    </tr>\n",
       "    <tr>\n",
       "      <th>2020-03-24</th>\n",
       "      <td>LINK</td>\n",
       "      <td>2.332851</td>\n",
       "    </tr>\n",
       "    <tr>\n",
       "      <th>2020-03-25</th>\n",
       "      <td>LINK</td>\n",
       "      <td>2.263408</td>\n",
       "    </tr>\n",
       "    <tr>\n",
       "      <th>2020-03-26</th>\n",
       "      <td>LINK</td>\n",
       "      <td>2.269480</td>\n",
       "    </tr>\n",
       "    <tr>\n",
       "      <th>2020-03-27</th>\n",
       "      <td>LINK</td>\n",
       "      <td>2.253465</td>\n",
       "    </tr>\n",
       "    <tr>\n",
       "      <th>...</th>\n",
       "      <td>...</td>\n",
       "      <td>...</td>\n",
       "    </tr>\n",
       "    <tr>\n",
       "      <th>2021-02-04</th>\n",
       "      <td>LINK</td>\n",
       "      <td>24.821852</td>\n",
       "    </tr>\n",
       "    <tr>\n",
       "      <th>2021-02-05</th>\n",
       "      <td>LINK</td>\n",
       "      <td>26.170589</td>\n",
       "    </tr>\n",
       "    <tr>\n",
       "      <th>2021-02-06</th>\n",
       "      <td>LINK</td>\n",
       "      <td>25.401047</td>\n",
       "    </tr>\n",
       "    <tr>\n",
       "      <th>2021-02-07</th>\n",
       "      <td>LINK</td>\n",
       "      <td>24.400212</td>\n",
       "    </tr>\n",
       "    <tr>\n",
       "      <th>2021-02-08</th>\n",
       "      <td>LINK</td>\n",
       "      <td>25.149397</td>\n",
       "    </tr>\n",
       "  </tbody>\n",
       "</table>\n",
       "<p>323 rows × 2 columns</p>\n",
       "</div>"
      ],
      "text/plain": [
       "           Currency  Closing Price (USD)\n",
       "Date                                    \n",
       "2020-03-23     LINK             2.231210\n",
       "2020-03-24     LINK             2.332851\n",
       "2020-03-25     LINK             2.263408\n",
       "2020-03-26     LINK             2.269480\n",
       "2020-03-27     LINK             2.253465\n",
       "...             ...                  ...\n",
       "2021-02-04     LINK            24.821852\n",
       "2021-02-05     LINK            26.170589\n",
       "2021-02-06     LINK            25.401047\n",
       "2021-02-07     LINK            24.400212\n",
       "2021-02-08     LINK            25.149397\n",
       "\n",
       "[323 rows x 2 columns]"
      ]
     },
     "execution_count": 12,
     "metadata": {},
     "output_type": "execute_result"
    }
   ],
   "source": [
    "XTZ.dropna(inplace = True)\n",
    "LINK.dropna(inplace = True)\n",
    "\n",
    "XTZ.drop(columns = ['24h Open (USD)','24h High (USD)','24h Low (USD)'] , inplace = True)\n",
    "LINK.drop(columns = ['24h Open (USD)','24h High (USD)','24h Low (USD)'] , inplace = True)\n",
    "\n",
    "LINK"
   ]
  },
  {
   "cell_type": "code",
   "execution_count": 6,
   "metadata": {},
   "outputs": [],
   "source": [
    "combined = pd.concat([XTS, LINK], axis = 'rows', join = 'inner')\n",
    "combined.pivot_table(combined,index=[\"Date\"],values=[\"Price\"])"
   ]
  },
  {
   "cell_type": "code",
   "execution_count": 6,
   "metadata": {},
   "outputs": [
    {
     "data": {
      "text/plain": [
       "<AxesSubplot:title={'center':'Closing Price (USD)'}, xlabel='Date'>"
      ]
     },
     "execution_count": 6,
     "metadata": {},
     "output_type": "execute_result"
    },
    {
     "data": {
      "image/png": "[encoded data removed]",
      "text/plain": [
       "<Figure size 432x288 with 1 Axes>"
      ]
     },
     "metadata": {
      "needs_background": "light"
     },
     "output_type": "display_data"
    }
   ],
   "source": [
    "XTZ['Closing Price (USD)'].rolling(window = 10).std().plot(title = 'Closing Price (USD)')"
   ]
  },
  {
   "cell_type": "code",
   "execution_count": 7,
   "metadata": {},
   "outputs": [
    {
     "data": {
      "text/plain": [
       "Closing Price (USD)    2.550478\n",
       "24h Open (USD)         2.545194\n",
       "24h High (USD)         2.650339\n",
       "24h Low (USD)          2.436752\n",
       "dtype: float64"
      ]
     },
     "execution_count": 7,
     "metadata": {},
     "output_type": "execute_result"
    }
   ],
   "source": [
    "XTZ.mean()"
   ]
  },
  {
   "cell_type": "code",
   "execution_count": null,
   "metadata": {},
   "outputs": [],
   "source": []
  }
 ],
 "metadata": {
  "kernelspec": {
   "display_name": "Python 3",
   "language": "python",
   "name": "python3"
  },
  "language_info": {
   "codemirror_mode": {
    "name": "ipython",
    "version": 3
   },
   "file_extension": ".py",
   "mimetype": "text/x-python",
   "name": "python",
   "nbconvert_exporter": "python",
   "pygments_lexer": "ipython3",
   "version": "3.7.9"
  }
 },
 "nbformat": 4,
 "nbformat_minor": 4
}
